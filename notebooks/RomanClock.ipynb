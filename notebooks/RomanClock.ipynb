{
 "cells": [
  {
   "cell_type": "code",
   "execution_count": 1,
   "metadata": {
    "collapsed": true
   },
   "outputs": [],
   "source": [
    "from __future__ import (absolute_import, division,\n",
    "                        print_function, unicode_literals)\n",
    "import datetime"
   ]
  },
  {
   "cell_type": "code",
   "execution_count": 2,
   "metadata": {
    "collapsed": false
   },
   "outputs": [],
   "source": [
    "# original taken from https://code.activestate.com/recipes/81611-roman-numerals/\n",
    "def int_to_roman(input):\n",
    "    \"\"\"\n",
    "    Convert an integer to Roman numerals.\n",
    "\n",
    "    Examples:\n",
    "    >>> int_to_roman(-1)\n",
    "    Traceback (most recent call last):\n",
    "    ValueError: Argument must be between 1 and 3999\n",
    "\n",
    "    >>> int_to_roman(1.5)\n",
    "    Traceback (most recent call last):\n",
    "    TypeError: expected integer, got <type 'float'>\n",
    "\n",
    "    >>> for i in range(0, 21): print int_to_roman(i)\n",
    "    ...\n",
    "    N\n",
    "    I\n",
    "    II\n",
    "    III\n",
    "    IV\n",
    "    V\n",
    "    VI\n",
    "    VII\n",
    "    VIII\n",
    "    IX\n",
    "    X\n",
    "    XI\n",
    "    XII\n",
    "    XIII\n",
    "    XIV\n",
    "    XV\n",
    "    XVI\n",
    "    XVII\n",
    "    XVIII\n",
    "    XIX\n",
    "    XX\n",
    "    >>> print int_to_roman(2000)\n",
    "    MM\n",
    "    >>> print int_to_roman(1999)\n",
    "    MCMXCIX\n",
    "    \"\"\"\n",
    "    if type(input) != type(1):\n",
    "        raise TypeError(\"expected integer, got %s\" % type(input))\n",
    "    if input == 0:\n",
    "        return 'N'  # see https://en.wikipedia.org/wiki/Roman_numerals#Zero\n",
    "    elif not 0 < input < 4000:\n",
    "        raise ValueError(\"Argument must be between 1 and 3999\")\n",
    "    ints = (1000, 900,  500, 400, 100,  90, 50,  40, 10,  9,   5,  4,   1)\n",
    "    nums = ('M',  'CM', 'D', 'CD','C', 'XC','L','XL','X','IX','V','IV','I')\n",
    "    result = \"\"\n",
    "    for i in range(len(ints)):\n",
    "        count = int(input / ints[i])\n",
    "        result += nums[i] * count\n",
    "        input -= ints[i] * count\n",
    "    return result\n",
    "\n",
    "def roman_to_int(input):\n",
    "    \"\"\"\n",
    "    Convert a roman numeral to an integer.\n",
    "   \n",
    "    >>> r = range(1, 4000)\n",
    "    >>> nums = [int_to_roman(i) for i in r]\n",
    "    >>> ints = [roman_to_int(n) for n in nums]\n",
    "    >>> print r == ints\n",
    "    1\n",
    "\n",
    "    >>> roman_to_int('VVVIV')\n",
    "    Traceback (most recent call last):\n",
    "     ...\n",
    "    ValueError: input is not a valid roman numeral: VVVIV\n",
    "    >>> roman_to_int(1)\n",
    "    Traceback (most recent call last):\n",
    "     ...\n",
    "    TypeError: expected string, got <type 'int'>\n",
    "    >>> roman_to_int('a')\n",
    "    Traceback (most recent call last):\n",
    "     ...\n",
    "    ValueError: input is not a valid roman numeral: A\n",
    "    >>> roman_to_int('IL')\n",
    "    Traceback (most recent call last):\n",
    "     ...\n",
    "    ValueError: input is not a valid roman numeral: IL\n",
    "    \"\"\"\n",
    "    if type(input) != type(\"\"):\n",
    "        raise TypeError(\"expected string, got %s\" % type(input))\n",
    "    input = input.upper()\n",
    "    nums = ['M', 'D', 'C', 'L', 'X', 'V', 'I']\n",
    "    ints = [1000, 500, 100, 50,  10,  5,   1]\n",
    "    places = []\n",
    "    for c in input:\n",
    "        if not c in nums:\n",
    "            raise ValueError(\"input is not a valid roman numeral: %s\" % input)\n",
    "    for i in range(len(input)):\n",
    "        c = input[i]\n",
    "        value = ints[nums.index(c)]\n",
    "        # If the next place holds a larger number, this value is negative.\n",
    "        try:\n",
    "            nextvalue = ints[nums.index(input[i +1])]\n",
    "            if nextvalue > value:\n",
    "                value *= -1\n",
    "        except IndexError:\n",
    "            # there is no next place.\n",
    "            pass\n",
    "        places.append(value)\n",
    "    sum = 0\n",
    "    for n in places: sum += n\n",
    "    # Easiest test for validity...\n",
    "    if int_to_roman(sum) == input:\n",
    "        return sum\n",
    "    else:\n",
    "        raise ValueError('input is not a valid roman numeral: %s' % input)\n"
   ]
  },
  {
   "cell_type": "code",
   "execution_count": 3,
   "metadata": {
    "collapsed": false
   },
   "outputs": [
    {
     "data": {
      "text/plain": [
       "4"
      ]
     },
     "execution_count": 3,
     "metadata": {},
     "output_type": "execute_result"
    }
   ],
   "source": [
    "now = datetime.datetime.utcnow()\n",
    "delta=datetime.datetime.utcnow()-datetime.datetime.now()\n",
    "delta=round(delta.seconds/3600)\n",
    "delta"
   ]
  },
  {
   "cell_type": "code",
   "execution_count": 4,
   "metadata": {
    "collapsed": false
   },
   "outputs": [
    {
     "name": "stdout",
     "output_type": "stream",
     "text": [
      "XIII:XXX-IV\n"
     ]
    }
   ],
   "source": [
    "def time_to_roman(withSeconds=False, inUTC=False):\n",
    "    # now in roman numerals\n",
    "    if inUTC:\n",
    "        now = datetime.datetime.utcnow()\n",
    "    else:\n",
    "        now = datetime.datetime.now()\n",
    "    info = [now.hour, now.minute]\n",
    "    if withSeconds:\n",
    "        info.append(now.second)\n",
    "    info = [int_to_roman(item) for item in info]\n",
    "    info = ':'.join(info)\n",
    "\n",
    "    # add time-zone\n",
    "    if inUTC:\n",
    "        info += 'Z'\n",
    "    else:\n",
    "        delta=datetime.datetime.utcnow()-datetime.datetime.now()\n",
    "        delta=round(delta.seconds/3600)\n",
    "        info += '-%s' % (int_to_roman(delta))  # TODO\n",
    "\n",
    "    return info\n",
    "print(time_to_roman(False))"
   ]
  },
  {
   "cell_type": "code",
   "execution_count": 5,
   "metadata": {
    "collapsed": false
   },
   "outputs": [
    {
     "name": "stdout",
     "output_type": "stream",
     "text": [
      "MMXVI-VII-XII\n"
     ]
    }
   ],
   "source": [
    "def date_to_roman():\n",
    "    now = datetime.datetime.now()\n",
    "    info = (now.year, now.month, now.day)\n",
    "    info = [int_to_roman(item) for item in info]\n",
    "    return '-'.join(info)\n",
    "print(date_to_roman())"
   ]
  },
  {
   "cell_type": "code",
   "execution_count": 9,
   "metadata": {
    "collapsed": false
   },
   "outputs": [
    {
     "name": "stdout",
     "output_type": "stream",
     "text": [
      "MMXVI-VII-XII XV:IX-IV\n"
     ]
    }
   ],
   "source": [
    "print(' '.join((date_to_roman(),time_to_roman())))"
   ]
  },
  {
   "cell_type": "code",
   "execution_count": null,
   "metadata": {
    "collapsed": true
   },
   "outputs": [],
   "source": []
  }
 ],
 "metadata": {
  "kernelspec": {
   "display_name": "Python 3",
   "language": "python",
   "name": "python3"
  },
  "language_info": {
   "codemirror_mode": {
    "name": "ipython",
    "version": 3
   },
   "file_extension": ".py",
   "mimetype": "text/x-python",
   "name": "python",
   "nbconvert_exporter": "python",
   "pygments_lexer": "ipython3",
   "version": "3.5.1"
  }
 },
 "nbformat": 4,
 "nbformat_minor": 0
}
